{
 "cells": [
  {
   "cell_type": "markdown",
   "id": "f3de0b9c-e22b-4a04-ac4c-e6f04fa61101",
   "metadata": {},
   "source": [
    "# Disaster building damage Prediction"
   ]
  },
  {
   "cell_type": "code",
   "execution_count": 1,
   "id": "ddfadda7-6a0f-4a99-a9f4-0e49a4c44b04",
   "metadata": {},
   "outputs": [],
   "source": [
    "import io\n",
    "import tensorflow\n",
    "import numpy as np\n",
    "import pandas as pd\n",
    "import matplotlib.pyplot as plt\n",
    "%matplotlib inline"
   ]
  },
  {
   "cell_type": "code",
   "execution_count": 2,
   "id": "0e656476-fc1d-4cca-973f-98c32d0f84ce",
   "metadata": {},
   "outputs": [
    {
     "name": "stdout",
     "output_type": "stream",
     "text": [
      "D:\\Imarticus\\stat\\Disasters(Richter's Predictor - Modeling Earthquake Damage)\n"
     ]
    }
   ],
   "source": [
    "%cd \"D:\\Imarticus\\stat\\Disasters(Richter's Predictor - Modeling Earthquake Damage)\""
   ]
  },
  {
   "cell_type": "code",
   "execution_count": 3,
   "id": "4eab7fee-c831-4fd9-9582-aa0d5c699a55",
   "metadata": {},
   "outputs": [],
   "source": [
    "dr_tr=pd.read_csv('train_values.csv')"
   ]
  },
  {
   "cell_type": "code",
   "execution_count": 4,
   "id": "74c6290c-8e62-44de-ae36-ec19ceb2612b",
   "metadata": {},
   "outputs": [],
   "source": [
    "dr_tt=pd.read_csv('test_values.csv')"
   ]
  },
  {
   "cell_type": "code",
   "execution_count": 5,
   "id": "f2dd2cd5-5aed-45d5-a769-187635bb4250",
   "metadata": {},
   "outputs": [],
   "source": [
    "dr_labels=pd.read_csv('train_labels.csv')"
   ]
  },
  {
   "cell_type": "code",
   "execution_count": 6,
   "id": "daa8c95d-0cd6-4afa-bb6b-9c376f3fc192",
   "metadata": {},
   "outputs": [],
   "source": [
    "dr_tr=dr_tr.merge(dr_labels,on='building_id')"
   ]
  },
  {
   "cell_type": "code",
   "execution_count": 7,
   "id": "04f5d3bc-6fd8-490d-9d9d-2cd607f5e87a",
   "metadata": {},
   "outputs": [],
   "source": [
    "# We need to remove building_id in both train and test files because it's doesn't change prediction\n",
    "dr_tr=dr_tr.drop(['building_id','geo_level_1_id','geo_level_2_id','geo_level_3_id'],axis=1)\n",
    "dr_tt=dr_tt.drop(['building_id','geo_level_1_id','geo_level_2_id','geo_level_3_id'],axis=1)"
   ]
  },
  {
   "cell_type": "markdown",
   "id": "6e096b3e-cdd4-48e7-8a0d-168c2041ee2f",
   "metadata": {},
   "source": [
    "# converting datatype from int to object"
   ]
  },
  {
   "cell_type": "code",
   "execution_count": 8,
   "id": "47add181-75f4-4d45-9503-33bb1a9fb7a2",
   "metadata": {},
   "outputs": [],
   "source": [
    "int_columns = ['count_floors_pre_eq','has_superstructure_adobe_mud','has_superstructure_mud_mortar_stone', 'has_superstructure_stone_flag',\n",
    "       'has_superstructure_cement_mortar_stone','has_superstructure_mud_mortar_brick','has_superstructure_cement_mortar_brick',\n",
    "        'has_superstructure_timber','has_superstructure_bamboo', 'has_superstructure_rc_non_engineered',\n",
    "       'has_superstructure_rc_engineered', 'has_superstructure_other', 'count_families', 'has_secondary_use',\n",
    "       'has_secondary_use_agriculture', 'has_secondary_use_hotel','has_secondary_use_rental', 'has_secondary_use_institution',\n",
    "       'has_secondary_use_school', 'has_secondary_use_industry','has_secondary_use_health_post', 'has_secondary_use_gov_office',\n",
    "       'has_secondary_use_use_police', 'has_secondary_use_other','damage_grade']"
   ]
  },
  {
   "cell_type": "code",
   "execution_count": 9,
   "id": "3643c2e5-7477-435c-8421-d8e633871a4f",
   "metadata": {},
   "outputs": [],
   "source": [
    "dr_tr[int_columns] = dr_tr[int_columns].astype('object')"
   ]
  },
  {
   "cell_type": "code",
   "execution_count": 10,
   "id": "18f24c26-3fec-47b9-bfc2-0f0e978a5527",
   "metadata": {},
   "outputs": [],
   "source": [
    "int_columns_tt = ['count_floors_pre_eq','has_superstructure_adobe_mud','has_superstructure_mud_mortar_stone', 'has_superstructure_stone_flag',\n",
    "       'has_superstructure_cement_mortar_stone','has_superstructure_mud_mortar_brick','has_superstructure_cement_mortar_brick',\n",
    "        'has_superstructure_timber','has_superstructure_bamboo', 'has_superstructure_rc_non_engineered',\n",
    "       'has_superstructure_rc_engineered', 'has_superstructure_other', 'count_families', 'has_secondary_use',\n",
    "       'has_secondary_use_agriculture', 'has_secondary_use_hotel','has_secondary_use_rental', 'has_secondary_use_institution',\n",
    "       'has_secondary_use_school', 'has_secondary_use_industry','has_secondary_use_health_post', 'has_secondary_use_gov_office',\n",
    "       'has_secondary_use_use_police', 'has_secondary_use_other']"
   ]
  },
  {
   "cell_type": "code",
   "execution_count": 11,
   "id": "8b1d52e6-bb22-44c7-8c6b-e2b69b234b6c",
   "metadata": {},
   "outputs": [],
   "source": [
    "dr_tt[int_columns_tt] = dr_tt[int_columns_tt].astype('object')"
   ]
  },
  {
   "cell_type": "code",
   "execution_count": null,
   "id": "479b2dc9-4508-4e7d-95d3-74726ce914b2",
   "metadata": {},
   "outputs": [],
   "source": []
  },
  {
   "cell_type": "code",
   "execution_count": null,
   "id": "026c2768-f2fe-496f-878e-faf439c76c0a",
   "metadata": {},
   "outputs": [],
   "source": []
  },
  {
   "cell_type": "markdown",
   "id": "9c1de9e7-f6e4-48ae-9f77-f1902895d3db",
   "metadata": {},
   "source": [
    "# splitting into nnumcols and objcols"
   ]
  },
  {
   "cell_type": "code",
   "execution_count": 12,
   "id": "9743c635-ee76-48ba-8c50-8f4be47a5d20",
   "metadata": {},
   "outputs": [],
   "source": [
    "numcols=dr_tr.select_dtypes(include=np.number)\n",
    "objcols=dr_tr.select_dtypes(include='object')"
   ]
  },
  {
   "cell_type": "markdown",
   "id": "967b9881-012d-40e8-9266-4da0598f5ec6",
   "metadata": {},
   "source": [
    "# Scaling"
   ]
  },
  {
   "cell_type": "code",
   "execution_count": 13,
   "id": "c0b53973-3915-413f-9509-27fb220f6901",
   "metadata": {},
   "outputs": [],
   "source": [
    "from sklearn.preprocessing import StandardScaler"
   ]
  },
  {
   "cell_type": "code",
   "execution_count": 14,
   "id": "17cded56-68a9-4d5e-804f-14c476612247",
   "metadata": {},
   "outputs": [],
   "source": [
    "sc=StandardScaler()"
   ]
  },
  {
   "cell_type": "code",
   "execution_count": 15,
   "id": "1655d4ae-2d56-422d-b961-194be927e56d",
   "metadata": {},
   "outputs": [],
   "source": [
    "numcols_sc=sc.fit_transform(numcols)"
   ]
  },
  {
   "cell_type": "code",
   "execution_count": 16,
   "id": "d7f4c8f1-0e74-4bcd-a48e-16b80b65d769",
   "metadata": {},
   "outputs": [],
   "source": [
    "numcols_sc=pd.DataFrame(numcols_sc,columns=numcols.columns)"
   ]
  },
  {
   "cell_type": "code",
   "execution_count": null,
   "id": "70c6b121-5af9-4188-89b1-5e78f0285694",
   "metadata": {},
   "outputs": [],
   "source": []
  },
  {
   "cell_type": "markdown",
   "id": "5f8b1b27-d985-49d8-9bd3-f6f0de3083a0",
   "metadata": {},
   "source": [
    "# converting categorical data into numerical data with the help of label encoder"
   ]
  },
  {
   "cell_type": "code",
   "execution_count": 17,
   "id": "cd97eb8c-26bc-429a-a7b0-f4baba61a4a3",
   "metadata": {},
   "outputs": [],
   "source": [
    "from sklearn.preprocessing import LabelEncoder"
   ]
  },
  {
   "cell_type": "code",
   "execution_count": 18,
   "id": "316ac142-a19a-462f-943d-f128a0ece407",
   "metadata": {},
   "outputs": [],
   "source": [
    "lb=LabelEncoder()"
   ]
  },
  {
   "cell_type": "code",
   "execution_count": 19,
   "id": "05e88df8-f89d-442a-8337-0a56fc00d29f",
   "metadata": {},
   "outputs": [],
   "source": [
    "objcols=objcols.apply(LabelEncoder().fit_transform)"
   ]
  },
  {
   "cell_type": "code",
   "execution_count": null,
   "id": "6218a502-1fae-4478-90cb-847604c07c60",
   "metadata": {},
   "outputs": [],
   "source": []
  },
  {
   "cell_type": "markdown",
   "id": "8efd91cc-d362-45c8-9502-391fd9c4df4f",
   "metadata": {},
   "source": [
    "### test data"
   ]
  },
  {
   "cell_type": "code",
   "execution_count": 20,
   "id": "581deb6f-4db6-44d3-b498-db8c2db2cce3",
   "metadata": {},
   "outputs": [],
   "source": [
    "numcols_tt=dr_tt.select_dtypes(include=np.number)\n",
    "objcols_tt=dr_tt.select_dtypes(include='object')"
   ]
  },
  {
   "cell_type": "code",
   "execution_count": 21,
   "id": "e7c555fc-ccc3-4092-9a23-5aeda76cb39f",
   "metadata": {},
   "outputs": [],
   "source": [
    "numcols_tt_sc=sc.fit_transform(numcols_tt)"
   ]
  },
  {
   "cell_type": "code",
   "execution_count": 22,
   "id": "6b9bd58e-eebb-41d4-bb76-7408d5f7fa3f",
   "metadata": {},
   "outputs": [],
   "source": [
    "numcols_tt_sc=pd.DataFrame(numcols_tt_sc,columns=numcols.columns)"
   ]
  },
  {
   "cell_type": "code",
   "execution_count": 23,
   "id": "908681d6-cd12-47de-9dca-d02ac0d01a9d",
   "metadata": {},
   "outputs": [],
   "source": [
    "objcols_tt=objcols_tt.apply(LabelEncoder().fit_transform)"
   ]
  },
  {
   "cell_type": "code",
   "execution_count": null,
   "id": "1fa0a2d4-f29b-4933-b720-08034861346e",
   "metadata": {},
   "outputs": [],
   "source": []
  },
  {
   "cell_type": "code",
   "execution_count": 24,
   "id": "7ba46655-fa3c-441e-84c0-76a96d7f5d1c",
   "metadata": {},
   "outputs": [],
   "source": [
    "combinedf=pd.concat([numcols_sc,objcols],axis=1)"
   ]
  },
  {
   "cell_type": "code",
   "execution_count": 25,
   "id": "3c7a69a6-4e14-4ede-9646-117541a8c15a",
   "metadata": {},
   "outputs": [],
   "source": [
    "dr_tt=pd.concat([numcols_tt_sc,objcols_tt],axis=1)"
   ]
  },
  {
   "cell_type": "code",
   "execution_count": null,
   "id": "3ec7b4d9-e575-447c-a9c6-d5aba4eae18a",
   "metadata": {},
   "outputs": [],
   "source": []
  },
  {
   "cell_type": "code",
   "execution_count": 26,
   "id": "bff218f3-009a-4305-becf-a41d88ba24bb",
   "metadata": {},
   "outputs": [],
   "source": [
    "X=combinedf.drop('damage_grade',axis=1)\n",
    "y=combinedf.damage_grade"
   ]
  },
  {
   "cell_type": "code",
   "execution_count": 46,
   "id": "5dd83c4a-bb55-4811-ac59-39a0eecd5bcc",
   "metadata": {},
   "outputs": [],
   "source": [
    "Xtest=dr_tt.values\n",
    "Xtest=Xtest.reshape(Xtest.shape[0], 1, Xtest.shape[1])"
   ]
  },
  {
   "cell_type": "markdown",
   "id": "2e112e49-402b-45db-b933-5213c95baf48",
   "metadata": {},
   "source": [
    "# TensorFlow RNN_LSTM Model Building"
   ]
  },
  {
   "cell_type": "code",
   "execution_count": 27,
   "id": "8b9bf34b-f3dc-4e5e-bd1f-ef86785509dc",
   "metadata": {},
   "outputs": [],
   "source": [
    "#RNN_LSTM\n",
    "from sklearn.model_selection import train_test_split\n",
    "from tensorflow.keras.models import Sequential\n",
    "from tensorflow.keras.layers import LSTM, Dense, Dropout \n",
    "from keras.utils import to_categorical"
   ]
  },
  {
   "cell_type": "code",
   "execution_count": 28,
   "id": "616a8aa0-5216-4466-bf32-d06a33dea5b3",
   "metadata": {},
   "outputs": [],
   "source": [
    "# Split the dataset into training and testing sets\n",
    "X_train, X_test, y_train, y_test = train_test_split(X.values, y, test_size=0.2, random_state=42)"
   ]
  },
  {
   "cell_type": "raw",
   "id": "a450f9b8-f632-46a8-b6bc-dc24fe5b5c10",
   "metadata": {},
   "source": [
    "# Feature scaling\n",
    "scaler = StandardScaler()\n",
    "X_train_scaled = scaler.fit_transform(X_train)\n",
    "X_test_scaled = scaler.transform(X_test)"
   ]
  },
  {
   "cell_type": "code",
   "execution_count": 33,
   "id": "46139bee-d9e0-49ea-9516-4e69ad8318c0",
   "metadata": {},
   "outputs": [],
   "source": [
    "# Reshape the data for LSTM (samples, time steps, features)\n",
    "X_train_reshaped = X_train.reshape(X_train.shape[0], 1, X_train.shape[1])\n",
    "X_test_reshaped = X_test.reshape(X_test.shape[0], 1, X_test.shape[1])\n",
    "y_train=to_categorical(y_train)\n",
    "y_test=to_categorical(y_test)"
   ]
  },
  {
   "cell_type": "code",
   "execution_count": 30,
   "id": "7e4094c0-6c0a-4ca4-ad5e-a6e17a96e216",
   "metadata": {},
   "outputs": [
    {
     "name": "stdout",
     "output_type": "stream",
     "text": [
      "Model: \"sequential\"\n",
      "_________________________________________________________________\n",
      " Layer (type)                Output Shape              Param #   \n",
      "=================================================================\n",
      " lstm (LSTM)                 (None, 128)               83968     \n",
      "                                                                 \n",
      " dense (Dense)               (None, 64)                8256      \n",
      "                                                                 \n",
      " dense_1 (Dense)             (None, 32)                2080      \n",
      "                                                                 \n",
      " dropout (Dropout)           (None, 32)                0         \n",
      "                                                                 \n",
      " dense_2 (Dense)             (None, 3)                 99        \n",
      "                                                                 \n",
      "=================================================================\n",
      "Total params: 94403 (368.76 KB)\n",
      "Trainable params: 94403 (368.76 KB)\n",
      "Non-trainable params: 0 (0.00 Byte)\n",
      "_________________________________________________________________\n"
     ]
    }
   ],
   "source": [
    "# Define the RNN architecture\n",
    "model = Sequential()\n",
    "model.add(LSTM(units=128, input_shape=(X_train_reshaped.shape[1], X_train_reshaped.shape[2])))\n",
    "model.add(Dense(units=64,activation='relu'))\n",
    "model.add(Dense(units=32,activation='relu'))\n",
    "model.add(Dropout(0.2))\n",
    "model.add(Dense(units=3, activation='softmax'))  # Output layer for multi-class classification\n",
    "# Compile the model\n",
    "model.compile(optimizer='adam', loss='categorical_crossentropy', metrics=['accuracy'])\n",
    "model.summary()"
   ]
  },
  {
   "cell_type": "code",
   "execution_count": 31,
   "id": "f61edda3-54a9-4cba-8a20-93abd1a365a8",
   "metadata": {},
   "outputs": [
    {
     "name": "stdout",
     "output_type": "stream",
     "text": [
      "Epoch 1/50\n",
      "5212/5212 [==============================] - 34s 6ms/step - loss: 0.8079 - accuracy: 0.5799 - val_loss: 0.7930 - val_accuracy: 0.5900\n",
      "Epoch 2/50\n",
      "5212/5212 [==============================] - 29s 6ms/step - loss: 0.7921 - accuracy: 0.5886 - val_loss: 0.7867 - val_accuracy: 0.5926\n",
      "Epoch 3/50\n",
      "5212/5212 [==============================] - 29s 6ms/step - loss: 0.7864 - accuracy: 0.5917 - val_loss: 0.7840 - val_accuracy: 0.5923\n",
      "Epoch 4/50\n",
      "5212/5212 [==============================] - 29s 6ms/step - loss: 0.7824 - accuracy: 0.5948 - val_loss: 0.7872 - val_accuracy: 0.5923\n",
      "Epoch 5/50\n",
      "5212/5212 [==============================] - 29s 6ms/step - loss: 0.7786 - accuracy: 0.5987 - val_loss: 0.7794 - val_accuracy: 0.5985\n",
      "Epoch 6/50\n",
      "5212/5212 [==============================] - 29s 6ms/step - loss: 0.7760 - accuracy: 0.6006 - val_loss: 0.7791 - val_accuracy: 0.6004\n",
      "Epoch 7/50\n",
      "5212/5212 [==============================] - 29s 6ms/step - loss: 0.7733 - accuracy: 0.6040 - val_loss: 0.7765 - val_accuracy: 0.6018\n",
      "Epoch 8/50\n",
      "5212/5212 [==============================] - 29s 6ms/step - loss: 0.7708 - accuracy: 0.6067 - val_loss: 0.7749 - val_accuracy: 0.6025\n",
      "Epoch 9/50\n",
      "5212/5212 [==============================] - 28s 5ms/step - loss: 0.7683 - accuracy: 0.6070 - val_loss: 0.7738 - val_accuracy: 0.6041\n",
      "Epoch 10/50\n",
      "5212/5212 [==============================] - 28s 5ms/step - loss: 0.7660 - accuracy: 0.6090 - val_loss: 0.7729 - val_accuracy: 0.6046\n",
      "Epoch 11/50\n",
      "5212/5212 [==============================] - 28s 5ms/step - loss: 0.7644 - accuracy: 0.6099 - val_loss: 0.7738 - val_accuracy: 0.6047\n",
      "Epoch 12/50\n",
      "5212/5212 [==============================] - 28s 5ms/step - loss: 0.7620 - accuracy: 0.6119 - val_loss: 0.7726 - val_accuracy: 0.6060\n",
      "Epoch 13/50\n",
      "5212/5212 [==============================] - 28s 5ms/step - loss: 0.7599 - accuracy: 0.6130 - val_loss: 0.7760 - val_accuracy: 0.6049\n",
      "Epoch 14/50\n",
      "5212/5212 [==============================] - 28s 5ms/step - loss: 0.7580 - accuracy: 0.6151 - val_loss: 0.7746 - val_accuracy: 0.6055\n",
      "Epoch 15/50\n",
      "5212/5212 [==============================] - 28s 5ms/step - loss: 0.7566 - accuracy: 0.6156 - val_loss: 0.7738 - val_accuracy: 0.6046\n",
      "Epoch 16/50\n",
      "5212/5212 [==============================] - 29s 6ms/step - loss: 0.7547 - accuracy: 0.6165 - val_loss: 0.7769 - val_accuracy: 0.6039\n",
      "Epoch 17/50\n",
      "5212/5212 [==============================] - 28s 5ms/step - loss: 0.7531 - accuracy: 0.6185 - val_loss: 0.7758 - val_accuracy: 0.6058\n",
      "Epoch 18/50\n",
      "5212/5212 [==============================] - 29s 6ms/step - loss: 0.7510 - accuracy: 0.6190 - val_loss: 0.7781 - val_accuracy: 0.6035\n",
      "Epoch 19/50\n",
      "5212/5212 [==============================] - 29s 6ms/step - loss: 0.7496 - accuracy: 0.6190 - val_loss: 0.7818 - val_accuracy: 0.6034\n",
      "Epoch 20/50\n",
      "5212/5212 [==============================] - 29s 6ms/step - loss: 0.7478 - accuracy: 0.6208 - val_loss: 0.7774 - val_accuracy: 0.6060\n",
      "Epoch 21/50\n",
      "5212/5212 [==============================] - 29s 5ms/step - loss: 0.7463 - accuracy: 0.6211 - val_loss: 0.7788 - val_accuracy: 0.6043\n",
      "Epoch 22/50\n",
      "5212/5212 [==============================] - 29s 6ms/step - loss: 0.7452 - accuracy: 0.6218 - val_loss: 0.7792 - val_accuracy: 0.6070\n",
      "Epoch 23/50\n",
      "5212/5212 [==============================] - 29s 5ms/step - loss: 0.7435 - accuracy: 0.6236 - val_loss: 0.7816 - val_accuracy: 0.6056\n",
      "Epoch 24/50\n",
      "5212/5212 [==============================] - 29s 6ms/step - loss: 0.7419 - accuracy: 0.6243 - val_loss: 0.7813 - val_accuracy: 0.6055\n",
      "Epoch 25/50\n",
      "5212/5212 [==============================] - 29s 6ms/step - loss: 0.7401 - accuracy: 0.6252 - val_loss: 0.7834 - val_accuracy: 0.6062\n",
      "Epoch 26/50\n",
      "5212/5212 [==============================] - 29s 6ms/step - loss: 0.7391 - accuracy: 0.6255 - val_loss: 0.7820 - val_accuracy: 0.6056\n",
      "Epoch 27/50\n",
      "5212/5212 [==============================] - 30s 6ms/step - loss: 0.7378 - accuracy: 0.6258 - val_loss: 0.7835 - val_accuracy: 0.6055\n",
      "Epoch 28/50\n",
      "5212/5212 [==============================] - 30s 6ms/step - loss: 0.7360 - accuracy: 0.6273 - val_loss: 0.7869 - val_accuracy: 0.6044\n",
      "Epoch 29/50\n",
      "5212/5212 [==============================] - 30s 6ms/step - loss: 0.7344 - accuracy: 0.6278 - val_loss: 0.7858 - val_accuracy: 0.6064\n",
      "Epoch 30/50\n",
      "5212/5212 [==============================] - 30s 6ms/step - loss: 0.7344 - accuracy: 0.6275 - val_loss: 0.7865 - val_accuracy: 0.6044\n",
      "Epoch 31/50\n",
      "5212/5212 [==============================] - 30s 6ms/step - loss: 0.7326 - accuracy: 0.6290 - val_loss: 0.7884 - val_accuracy: 0.6065\n",
      "Epoch 32/50\n",
      "5212/5212 [==============================] - 29s 6ms/step - loss: 0.7319 - accuracy: 0.6298 - val_loss: 0.7891 - val_accuracy: 0.6072\n",
      "Epoch 33/50\n",
      "5212/5212 [==============================] - 29s 6ms/step - loss: 0.7304 - accuracy: 0.6310 - val_loss: 0.7944 - val_accuracy: 0.6067\n",
      "Epoch 34/50\n",
      "5212/5212 [==============================] - 30s 6ms/step - loss: 0.7290 - accuracy: 0.6308 - val_loss: 0.7920 - val_accuracy: 0.6059\n",
      "Epoch 35/50\n",
      "5212/5212 [==============================] - 30s 6ms/step - loss: 0.7277 - accuracy: 0.6323 - val_loss: 0.7912 - val_accuracy: 0.6057\n",
      "Epoch 36/50\n",
      "5212/5212 [==============================] - 30s 6ms/step - loss: 0.7264 - accuracy: 0.6333 - val_loss: 0.7937 - val_accuracy: 0.6065\n",
      "Epoch 37/50\n",
      "5212/5212 [==============================] - 29s 6ms/step - loss: 0.7260 - accuracy: 0.6331 - val_loss: 0.7985 - val_accuracy: 0.6042\n",
      "Epoch 38/50\n",
      "5212/5212 [==============================] - 29s 6ms/step - loss: 0.7238 - accuracy: 0.6347 - val_loss: 0.7969 - val_accuracy: 0.6029\n",
      "Epoch 39/50\n",
      "5212/5212 [==============================] - 29s 6ms/step - loss: 0.7234 - accuracy: 0.6338 - val_loss: 0.8014 - val_accuracy: 0.6062\n",
      "Epoch 40/50\n",
      "5212/5212 [==============================] - 29s 6ms/step - loss: 0.7225 - accuracy: 0.6348 - val_loss: 0.8009 - val_accuracy: 0.6073\n",
      "Epoch 41/50\n",
      "5212/5212 [==============================] - 29s 6ms/step - loss: 0.7213 - accuracy: 0.6363 - val_loss: 0.8083 - val_accuracy: 0.6031\n",
      "Epoch 42/50\n",
      "5212/5212 [==============================] - 30s 6ms/step - loss: 0.7202 - accuracy: 0.6366 - val_loss: 0.8088 - val_accuracy: 0.6036\n",
      "Epoch 43/50\n",
      "5212/5212 [==============================] - 29s 6ms/step - loss: 0.7191 - accuracy: 0.6366 - val_loss: 0.8069 - val_accuracy: 0.6054\n",
      "Epoch 44/50\n",
      "5212/5212 [==============================] - 30s 6ms/step - loss: 0.7181 - accuracy: 0.6365 - val_loss: 0.8130 - val_accuracy: 0.6040\n",
      "Epoch 45/50\n",
      "5212/5212 [==============================] - 29s 6ms/step - loss: 0.7169 - accuracy: 0.6372 - val_loss: 0.8109 - val_accuracy: 0.6038\n",
      "Epoch 46/50\n",
      "5212/5212 [==============================] - 29s 6ms/step - loss: 0.7169 - accuracy: 0.6376 - val_loss: 0.8091 - val_accuracy: 0.6029\n",
      "Epoch 47/50\n",
      "5212/5212 [==============================] - 30s 6ms/step - loss: 0.7160 - accuracy: 0.6393 - val_loss: 0.8177 - val_accuracy: 0.6006\n",
      "Epoch 48/50\n",
      "5212/5212 [==============================] - 29s 6ms/step - loss: 0.7148 - accuracy: 0.6394 - val_loss: 0.8187 - val_accuracy: 0.6029\n",
      "Epoch 49/50\n",
      "5212/5212 [==============================] - 29s 5ms/step - loss: 0.7141 - accuracy: 0.6391 - val_loss: 0.8185 - val_accuracy: 0.6029\n",
      "Epoch 50/50\n",
      "5212/5212 [==============================] - 30s 6ms/step - loss: 0.7130 - accuracy: 0.6395 - val_loss: 0.8202 - val_accuracy: 0.6031\n"
     ]
    },
    {
     "data": {
      "text/plain": [
       "<keras.src.callbacks.History at 0x2d7bd45bdd0>"
      ]
     },
     "execution_count": 31,
     "metadata": {},
     "output_type": "execute_result"
    }
   ],
   "source": [
    "# Train the model\n",
    "model.fit(X_train_reshaped, y_train, epochs=50, batch_size=32, validation_split=0.2)"
   ]
  },
  {
   "cell_type": "code",
   "execution_count": 34,
   "id": "09e9c675-ab31-463c-8c15-2fbb3c1def62",
   "metadata": {},
   "outputs": [
    {
     "name": "stdout",
     "output_type": "stream",
     "text": [
      "1629/1629 [==============================] - 6s 3ms/step - loss: 0.8236 - accuracy: 0.6025\n",
      "Test Loss: 0.823607861995697\n",
      "Test Accuracy: 0.6025018692016602\n"
     ]
    }
   ],
   "source": [
    "# Evaluate the model\n",
    "loss, accuracy = model.evaluate(X_test_reshaped, y_test)\n",
    "print(f'Test Loss: {loss}')\n",
    "print(f'Test Accuracy: {accuracy}')"
   ]
  },
  {
   "cell_type": "code",
   "execution_count": 35,
   "id": "620cc535-b1ac-4a85-b1d1-ee0460d513f8",
   "metadata": {},
   "outputs": [
    {
     "name": "stdout",
     "output_type": "stream",
     "text": [
      "1629/1629 [==============================] - 5s 3ms/step\n"
     ]
    }
   ],
   "source": [
    "# Make predictions\n",
    "predictions = model.predict(X_test_reshaped)"
   ]
  },
  {
   "cell_type": "code",
   "execution_count": 36,
   "id": "58318428-307d-4125-8d49-ab807d13aecc",
   "metadata": {},
   "outputs": [],
   "source": [
    "predictions=predictions.argmax(axis=1)"
   ]
  },
  {
   "cell_type": "code",
   "execution_count": 37,
   "id": "d9503cf7-e4e5-4c78-99cd-59533fe9af5f",
   "metadata": {},
   "outputs": [
    {
     "data": {
      "text/plain": [
       "array([1, 1, 1, ..., 1, 2, 1], dtype=int64)"
      ]
     },
     "execution_count": 37,
     "metadata": {},
     "output_type": "execute_result"
    }
   ],
   "source": [
    "predictions"
   ]
  },
  {
   "cell_type": "code",
   "execution_count": 38,
   "id": "b42807b9-d519-4776-84b2-fb35b2f00363",
   "metadata": {},
   "outputs": [
    {
     "data": {
      "text/plain": [
       "1    39000\n",
       "2    10691\n",
       "0     2430\n",
       "Name: count, dtype: int64"
      ]
     },
     "execution_count": 38,
     "metadata": {},
     "output_type": "execute_result"
    }
   ],
   "source": [
    "predictions=pd.DataFrame(predictions)\n",
    "predictions.value_counts()"
   ]
  },
  {
   "cell_type": "code",
   "execution_count": 42,
   "id": "6ccd8f42-a0f4-4349-b5e6-d85b09f0e5b8",
   "metadata": {},
   "outputs": [
    {
     "data": {
      "text/plain": [
       "<Axes: ylabel='count'>"
      ]
     },
     "execution_count": 42,
     "metadata": {},
     "output_type": "execute_result"
    },
    {
     "data": {
      "image/png": "[encoded data removed]",
      "text/plain": [
       "<Figure size 640x480 with 1 Axes>"
      ]
     },
     "metadata": {},
     "output_type": "display_data"
    }
   ],
   "source": [
    "predictions.value_counts().plot(kind='pie',autopct='%0.2f%%')"
   ]
  },
  {
   "cell_type": "code",
   "execution_count": 49,
   "id": "f6bbb70b-e785-4f89-8045-9bd9e09caf4d",
   "metadata": {},
   "outputs": [
    {
     "name": "stdout",
     "output_type": "stream",
     "text": [
      "2715/2715 [==============================] - 7s 3ms/step\n"
     ]
    }
   ],
   "source": [
    "test1=model.predict(Xtest)"
   ]
  },
  {
   "cell_type": "code",
   "execution_count": 50,
   "id": "f0a698d1-6b19-4e1d-9e82-58688852f5f2",
   "metadata": {},
   "outputs": [],
   "source": [
    "test_pred=test1.argmax(axis=1)"
   ]
  },
  {
   "cell_type": "code",
   "execution_count": 51,
   "id": "e470ad77-c66b-45a1-bed5-5fee81a663c4",
   "metadata": {},
   "outputs": [
    {
     "data": {
      "text/plain": [
       "1    65331\n",
       "2    17523\n",
       "0     4014\n",
       "Name: count, dtype: int64"
      ]
     },
     "execution_count": 51,
     "metadata": {},
     "output_type": "execute_result"
    }
   ],
   "source": [
    "test_pred=pd.DataFrame(test_pred)\n",
    "test_pred.value_counts()"
   ]
  },
  {
   "cell_type": "code",
   "execution_count": null,
   "id": "8411f0be-b37d-4aba-a8b6-7d18f48b8267",
   "metadata": {},
   "outputs": [],
   "source": []
  }
 ],
 "metadata": {
  "kernelspec": {
   "display_name": "Python 3 (ipykernel)",
   "language": "python",
   "name": "python3"
  },
  "language_info": {
   "codemirror_mode": {
    "name": "ipython",
    "version": 3
   },
   "file_extension": ".py",
   "mimetype": "text/x-python",
   "name": "python",
   "nbconvert_exporter": "python",
   "pygments_lexer": "ipython3",
   "version": "3.11.7"
  }
 },
 "nbformat": 4,
 "nbformat_minor": 5
}
