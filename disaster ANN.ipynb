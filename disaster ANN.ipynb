{
 "cells": [
  {
   "cell_type": "code",
   "execution_count": 1,
   "id": "85542cd9-827b-4a8d-9326-7a82dc3db2a5",
   "metadata": {},
   "outputs": [],
   "source": [
    "import io\n",
    "import os\n",
    "import numpy as np\n",
    "import pandas as pd\n",
    "import matplotlib.pyplot as plt\n",
    "import seaborn as sns\n",
    "%matplotlib inline"
   ]
  },
  {
   "cell_type": "code",
   "execution_count": 2,
   "id": "e7d9c8c3-8e47-45c7-b67b-04b92c5eb5fd",
   "metadata": {},
   "outputs": [
    {
     "name": "stdout",
     "output_type": "stream",
     "text": [
      "D:\\Imarticus\\stat\\Disasters(Richter's Predictor - Modeling Earthquake Damage)\n"
     ]
    }
   ],
   "source": [
    "%cd \"D:\\Imarticus\\stat\\Disasters(Richter's Predictor - Modeling Earthquake Damage)\""
   ]
  },
  {
   "cell_type": "code",
   "execution_count": 3,
   "id": "8ecce5c3-5223-4868-b402-d393595fb120",
   "metadata": {},
   "outputs": [],
   "source": [
    "dr_tr=pd.read_csv('train_values.csv')"
   ]
  },
  {
   "cell_type": "code",
   "execution_count": 4,
   "id": "9331568a-ab6a-4893-aac9-d14b19a49e0f",
   "metadata": {},
   "outputs": [],
   "source": [
    "dr_tt=pd.read_csv('test_values.csv')"
   ]
  },
  {
   "cell_type": "code",
   "execution_count": 5,
   "id": "585b7215-2d4f-41b6-950d-f63cca9b4d76",
   "metadata": {},
   "outputs": [],
   "source": [
    "dr_labels=pd.read_csv('train_labels.csv')"
   ]
  },
  {
   "cell_type": "code",
   "execution_count": 6,
   "id": "2bec211e-0788-48f0-b1a7-9232633f65ef",
   "metadata": {},
   "outputs": [],
   "source": [
    "dr_tr=dr_tr.merge(dr_labels,on='building_id')"
   ]
  },
  {
   "cell_type": "code",
   "execution_count": 7,
   "id": "fc6c16b2-c289-4365-806d-cf333a066374",
   "metadata": {},
   "outputs": [],
   "source": [
    "# We need to remove building_id in both train and test files because it's doesn't change prediction\n",
    "dr_tr=dr_tr.drop(['building_id','geo_level_1_id','geo_level_2_id','geo_level_3_id'],axis=1)\n",
    "dr_tt=dr_tt.drop(['building_id','geo_level_1_id','geo_level_2_id','geo_level_3_id'],axis=1)"
   ]
  },
  {
   "cell_type": "markdown",
   "id": "158959a0-87af-4984-9b6d-a42e954aa3fc",
   "metadata": {},
   "source": [
    "# converting data type from int to object in train data"
   ]
  },
  {
   "cell_type": "code",
   "execution_count": 8,
   "id": "70799321-26de-43c9-a6bd-3e08d5393a41",
   "metadata": {},
   "outputs": [],
   "source": [
    "int_columns = ['count_floors_pre_eq','has_superstructure_adobe_mud','has_superstructure_mud_mortar_stone', 'has_superstructure_stone_flag',\n",
    "       'has_superstructure_cement_mortar_stone','has_superstructure_mud_mortar_brick','has_superstructure_cement_mortar_brick',\n",
    "        'has_superstructure_timber','has_superstructure_bamboo', 'has_superstructure_rc_non_engineered',\n",
    "       'has_superstructure_rc_engineered', 'has_superstructure_other', 'count_families', 'has_secondary_use',\n",
    "       'has_secondary_use_agriculture', 'has_secondary_use_hotel','has_secondary_use_rental', 'has_secondary_use_institution',\n",
    "       'has_secondary_use_school', 'has_secondary_use_industry','has_secondary_use_health_post', 'has_secondary_use_gov_office',\n",
    "       'has_secondary_use_use_police', 'has_secondary_use_other','damage_grade']"
   ]
  },
  {
   "cell_type": "code",
   "execution_count": 9,
   "id": "eda93514-2862-4697-b9a5-51956dbd60d0",
   "metadata": {},
   "outputs": [],
   "source": [
    "dr_tr[int_columns] = dr_tr[int_columns].astype('object')"
   ]
  },
  {
   "cell_type": "markdown",
   "id": "c10215f9-30ac-40d7-b318-dd21bd8baec8",
   "metadata": {},
   "source": [
    "# converting data type from int to object in test data"
   ]
  },
  {
   "cell_type": "code",
   "execution_count": 10,
   "id": "9e42c2e1-63df-4fc3-9ba5-72669c7b097d",
   "metadata": {},
   "outputs": [],
   "source": [
    "int_columns_tt = ['count_floors_pre_eq','has_superstructure_adobe_mud','has_superstructure_mud_mortar_stone', 'has_superstructure_stone_flag',\n",
    "       'has_superstructure_cement_mortar_stone','has_superstructure_mud_mortar_brick','has_superstructure_cement_mortar_brick',\n",
    "        'has_superstructure_timber','has_superstructure_bamboo', 'has_superstructure_rc_non_engineered',\n",
    "       'has_superstructure_rc_engineered', 'has_superstructure_other', 'count_families', 'has_secondary_use',\n",
    "       'has_secondary_use_agriculture', 'has_secondary_use_hotel','has_secondary_use_rental', 'has_secondary_use_institution',\n",
    "       'has_secondary_use_school', 'has_secondary_use_industry','has_secondary_use_health_post', 'has_secondary_use_gov_office',\n",
    "       'has_secondary_use_use_police', 'has_secondary_use_other']"
   ]
  },
  {
   "cell_type": "code",
   "execution_count": 11,
   "id": "b0d0dbe4-44b2-430f-a5d2-ffa423cde911",
   "metadata": {},
   "outputs": [],
   "source": [
    "dr_tt[int_columns_tt] = dr_tt[int_columns_tt].astype('object')"
   ]
  },
  {
   "cell_type": "code",
   "execution_count": null,
   "id": "6d8a9a1a-5455-454a-b7a9-081e8d67f1a8",
   "metadata": {},
   "outputs": [],
   "source": []
  },
  {
   "cell_type": "markdown",
   "id": "4eace8d7-85c8-4eed-814c-9967f047b4da",
   "metadata": {},
   "source": [
    "# splitting into numcols and objcols"
   ]
  },
  {
   "cell_type": "code",
   "execution_count": 12,
   "id": "444ad4af-364f-41cc-8408-65cddd51064b",
   "metadata": {},
   "outputs": [],
   "source": [
    "numcols=dr_tr.select_dtypes(include=np.number)\n",
    "objcols=dr_tr.select_dtypes(include='object')"
   ]
  },
  {
   "cell_type": "markdown",
   "id": "4d8336d1-1a03-4f8f-8e63-9bdb13a6ae8c",
   "metadata": {},
   "source": [
    "# Scaling"
   ]
  },
  {
   "cell_type": "code",
   "execution_count": 13,
   "id": "cb6de12b-2edf-4a3e-acc2-e1506f25a7d7",
   "metadata": {},
   "outputs": [],
   "source": [
    "from sklearn.preprocessing import MinMaxScaler"
   ]
  },
  {
   "cell_type": "code",
   "execution_count": 14,
   "id": "fa1bff2d-fd26-4847-af70-39e4b51de187",
   "metadata": {},
   "outputs": [],
   "source": [
    "mm=MinMaxScaler()"
   ]
  },
  {
   "cell_type": "code",
   "execution_count": 15,
   "id": "7fbea0fc-dd81-491b-954c-74834601b1b0",
   "metadata": {},
   "outputs": [],
   "source": [
    "numcols_mm=mm.fit_transform(numcols)"
   ]
  },
  {
   "cell_type": "code",
   "execution_count": 16,
   "id": "587abb6a-0b3d-43a3-a369-96d5435eb098",
   "metadata": {},
   "outputs": [],
   "source": [
    "numcols_mm=pd.DataFrame(numcols_mm,columns=numcols.columns)"
   ]
  },
  {
   "cell_type": "code",
   "execution_count": null,
   "id": "9052189f-9dc4-43bf-8840-6ec583159b93",
   "metadata": {},
   "outputs": [],
   "source": []
  },
  {
   "cell_type": "markdown",
   "id": "64f10f10-15ee-4094-b0d7-16db0cb91819",
   "metadata": {},
   "source": [
    "# label encoding"
   ]
  },
  {
   "cell_type": "code",
   "execution_count": 17,
   "id": "f67758aa-071b-40ca-b20b-abf417ed18dd",
   "metadata": {},
   "outputs": [],
   "source": [
    "from sklearn.preprocessing import LabelEncoder"
   ]
  },
  {
   "cell_type": "code",
   "execution_count": 18,
   "id": "62b9a2c8-9556-4d4e-8745-2e675a63f2d1",
   "metadata": {},
   "outputs": [],
   "source": [
    "lb=LabelEncoder()"
   ]
  },
  {
   "cell_type": "code",
   "execution_count": 19,
   "id": "c17ba025-9705-463b-a9db-51157880f8d1",
   "metadata": {},
   "outputs": [],
   "source": [
    "objcols=objcols.apply(LabelEncoder().fit_transform)"
   ]
  },
  {
   "cell_type": "code",
   "execution_count": null,
   "id": "c6dced58-a19f-4b22-a1ab-99c8ad0c4067",
   "metadata": {},
   "outputs": [],
   "source": []
  },
  {
   "cell_type": "markdown",
   "id": "5e35f1de-2530-4b9d-9001-525d23ca1978",
   "metadata": {},
   "source": [
    "# splitting into numcols and objcols for test dataframe"
   ]
  },
  {
   "cell_type": "code",
   "execution_count": 20,
   "id": "7b7f5c95-1982-4d45-8e25-791dde832b25",
   "metadata": {},
   "outputs": [],
   "source": [
    "numcols_tt=dr_tt.select_dtypes(include=np.number)\n",
    "objcols_tt=dr_tt.select_dtypes(include='object')"
   ]
  },
  {
   "cell_type": "code",
   "execution_count": 21,
   "id": "36d97a62-b364-4d76-a642-8ab14ee23d6f",
   "metadata": {},
   "outputs": [],
   "source": [
    "numcols_tt_mm=mm.fit_transform(numcols_tt)"
   ]
  },
  {
   "cell_type": "code",
   "execution_count": 22,
   "id": "f12be6b1-5eb3-4b3b-8bd6-175960a796fa",
   "metadata": {},
   "outputs": [],
   "source": [
    "numcols_tt_mm=pd.DataFrame(numcols_tt_mm,columns=numcols.columns)"
   ]
  },
  {
   "cell_type": "code",
   "execution_count": 23,
   "id": "3f73769d-5e32-46d2-b830-f3ea435f5f52",
   "metadata": {},
   "outputs": [],
   "source": [
    "objcols_tt=objcols_tt.apply(LabelEncoder().fit_transform)"
   ]
  },
  {
   "cell_type": "code",
   "execution_count": null,
   "id": "38bbefac-f56e-48ea-a8e7-d947d4c418c8",
   "metadata": {},
   "outputs": [],
   "source": []
  },
  {
   "cell_type": "code",
   "execution_count": 24,
   "id": "a0c46d69-806e-42ee-870d-1c684fe38741",
   "metadata": {},
   "outputs": [],
   "source": [
    "combinedf=pd.concat([numcols_mm,objcols],axis=1)"
   ]
  },
  {
   "cell_type": "code",
   "execution_count": 25,
   "id": "4d66914e-bce1-472e-a4b2-be266946f099",
   "metadata": {},
   "outputs": [],
   "source": [
    "dr_tt=pd.concat([numcols_tt_mm,objcols_tt],axis=1)"
   ]
  },
  {
   "cell_type": "code",
   "execution_count": null,
   "id": "ee5b7db8-4d84-48b1-9052-0562fb766305",
   "metadata": {},
   "outputs": [],
   "source": []
  },
  {
   "cell_type": "markdown",
   "id": "e0b5a0b3-ba76-4c96-a81d-768317e44dc3",
   "metadata": {},
   "source": [
    "# Splitting into Dependent(y) and Independent variables(X's)"
   ]
  },
  {
   "cell_type": "code",
   "execution_count": 26,
   "id": "8c7c3bb2-9626-4bf4-82e0-b3da529fd942",
   "metadata": {},
   "outputs": [],
   "source": [
    "X=combinedf.drop('damage_grade',axis=1)\n",
    "y=combinedf.damage_grade"
   ]
  },
  {
   "cell_type": "markdown",
   "id": "4a4ed9f2-ecf8-4dc6-aea7-3a3611d2bd5f",
   "metadata": {},
   "source": [
    "# TensorFlow"
   ]
  },
  {
   "cell_type": "code",
   "execution_count": 27,
   "id": "069e735d-d4d6-41bb-adea-9d533d30dc5c",
   "metadata": {},
   "outputs": [],
   "source": [
    "import tensorflow\n",
    "from sklearn.preprocessing import StandardScaler, LabelEncoder\n",
    "from sklearn.metrics import classification_report\n",
    "from tensorflow.keras.models import Sequential\n",
    "from tensorflow.keras.layers import Dense, Dropout\n",
    "from tensorflow.keras.utils import to_categorical"
   ]
  },
  {
   "cell_type": "code",
   "execution_count": 28,
   "id": "2d1f0dd2-4d39-4cc8-a41f-4a8d0f6923ef",
   "metadata": {},
   "outputs": [],
   "source": [
    "y1 = to_categorical(y)"
   ]
  },
  {
   "cell_type": "code",
   "execution_count": 29,
   "id": "15da917a-029a-4e0a-816b-be320e620457",
   "metadata": {},
   "outputs": [
    {
     "name": "stdout",
     "output_type": "stream",
     "text": [
      "Model: \"sequential\"\n",
      "_________________________________________________________________\n",
      " Layer (type)                Output Shape              Param #   \n",
      "=================================================================\n",
      " dense (Dense)               (None, 128)               4608      \n",
      "                                                                 \n",
      " dense_1 (Dense)             (None, 64)                8256      \n",
      "                                                                 \n",
      " dropout (Dropout)           (None, 64)                0         \n",
      "                                                                 \n",
      " dense_2 (Dense)             (None, 32)                2080      \n",
      "                                                                 \n",
      " dense_3 (Dense)             (None, 16)                528       \n",
      "                                                                 \n",
      " dense_4 (Dense)             (None, 3)                 51        \n",
      "                                                                 \n",
      "=================================================================\n",
      "Total params: 15523 (60.64 KB)\n",
      "Trainable params: 15523 (60.64 KB)\n",
      "Non-trainable params: 0 (0.00 Byte)\n",
      "_________________________________________________________________\n"
     ]
    }
   ],
   "source": [
    "# Building the ANN\n",
    "model = Sequential()\n",
    "# Input layer\n",
    "model.add(Dense(128, activation='relu', input_dim=X.shape[1]))\n",
    "# Hidden layers\n",
    "model.add(Dense(64, activation='relu'))\n",
    "model.add(Dropout(0.3))  # Adding dropout for regularization\n",
    "model.add(Dense(32, activation='relu'))\n",
    "model.add(Dense(16, activation='relu'))\n",
    "# Output layer\n",
    "model.add(Dense(y1.shape[1], activation='softmax'))\n",
    "# Compiling the ANN\n",
    "model.compile(optimizer='adam', loss='categorical_crossentropy', metrics=['accuracy'])\n",
    "model.summary()"
   ]
  },
  {
   "cell_type": "code",
   "execution_count": 30,
   "id": "9ff2a3e9-8f7b-4122-a62f-c1c69f11ca48",
   "metadata": {},
   "outputs": [
    {
     "name": "stdout",
     "output_type": "stream",
     "text": [
      "Epoch 1/30\n",
      "7330/7330 [==============================] - 10s 1ms/step - loss: 0.8247 - accuracy: 0.5745 - val_loss: 0.8017 - val_accuracy: 0.5867\n",
      "Epoch 2/30\n",
      "7330/7330 [==============================] - 9s 1ms/step - loss: 0.8000 - accuracy: 0.5846 - val_loss: 0.7961 - val_accuracy: 0.5902\n",
      "Epoch 3/30\n",
      "7330/7330 [==============================] - 9s 1ms/step - loss: 0.7945 - accuracy: 0.5883 - val_loss: 0.7895 - val_accuracy: 0.5953\n",
      "Epoch 4/30\n",
      "7330/7330 [==============================] - 9s 1ms/step - loss: 0.7913 - accuracy: 0.5909 - val_loss: 0.7919 - val_accuracy: 0.5900\n",
      "Epoch 5/30\n",
      "7330/7330 [==============================] - 9s 1ms/step - loss: 0.7886 - accuracy: 0.5915 - val_loss: 0.7867 - val_accuracy: 0.5963\n",
      "Epoch 6/30\n",
      "7330/7330 [==============================] - 9s 1ms/step - loss: 0.7870 - accuracy: 0.5939 - val_loss: 0.7851 - val_accuracy: 0.5936\n",
      "Epoch 7/30\n",
      "7330/7330 [==============================] - 9s 1ms/step - loss: 0.7854 - accuracy: 0.5945 - val_loss: 0.7835 - val_accuracy: 0.5971\n",
      "Epoch 8/30\n",
      "7330/7330 [==============================] - 9s 1ms/step - loss: 0.7843 - accuracy: 0.5955 - val_loss: 0.7811 - val_accuracy: 0.5981\n",
      "Epoch 9/30\n",
      "7330/7330 [==============================] - 9s 1ms/step - loss: 0.7831 - accuracy: 0.5955 - val_loss: 0.7868 - val_accuracy: 0.5960\n",
      "Epoch 10/30\n",
      "7330/7330 [==============================] - 9s 1ms/step - loss: 0.7823 - accuracy: 0.5979 - val_loss: 0.7835 - val_accuracy: 0.5961\n",
      "Epoch 11/30\n",
      "7330/7330 [==============================] - 9s 1ms/step - loss: 0.7821 - accuracy: 0.5978 - val_loss: 0.7830 - val_accuracy: 0.5952\n",
      "Epoch 12/30\n",
      "7330/7330 [==============================] - 9s 1ms/step - loss: 0.7812 - accuracy: 0.5988 - val_loss: 0.7778 - val_accuracy: 0.6011\n",
      "Epoch 13/30\n",
      "7330/7330 [==============================] - 10s 1ms/step - loss: 0.7797 - accuracy: 0.5991 - val_loss: 0.7794 - val_accuracy: 0.5996\n",
      "Epoch 14/30\n",
      "7330/7330 [==============================] - 10s 1ms/step - loss: 0.7791 - accuracy: 0.5992 - val_loss: 0.7835 - val_accuracy: 0.5960\n",
      "Epoch 15/30\n",
      "7330/7330 [==============================] - 9s 1ms/step - loss: 0.7783 - accuracy: 0.6006 - val_loss: 0.7784 - val_accuracy: 0.6041\n",
      "Epoch 16/30\n",
      "7330/7330 [==============================] - 9s 1ms/step - loss: 0.7779 - accuracy: 0.6012 - val_loss: 0.7800 - val_accuracy: 0.6058\n",
      "Epoch 17/30\n",
      "7330/7330 [==============================] - 9s 1ms/step - loss: 0.7770 - accuracy: 0.6026 - val_loss: 0.7788 - val_accuracy: 0.5993\n",
      "Epoch 18/30\n",
      "7330/7330 [==============================] - 9s 1ms/step - loss: 0.7764 - accuracy: 0.6019 - val_loss: 0.7771 - val_accuracy: 0.6016\n",
      "Epoch 19/30\n",
      "7330/7330 [==============================] - 9s 1ms/step - loss: 0.7754 - accuracy: 0.6027 - val_loss: 0.7769 - val_accuracy: 0.6030\n",
      "Epoch 20/30\n",
      "7330/7330 [==============================] - 9s 1ms/step - loss: 0.7753 - accuracy: 0.6032 - val_loss: 0.7793 - val_accuracy: 0.6038\n",
      "Epoch 21/30\n",
      "7330/7330 [==============================] - 10s 1ms/step - loss: 0.7752 - accuracy: 0.6035 - val_loss: 0.7777 - val_accuracy: 0.5980\n",
      "Epoch 22/30\n",
      "7330/7330 [==============================] - 10s 1ms/step - loss: 0.7744 - accuracy: 0.6028 - val_loss: 0.7777 - val_accuracy: 0.6049\n",
      "Epoch 23/30\n",
      "7330/7330 [==============================] - 9s 1ms/step - loss: 0.7741 - accuracy: 0.6034 - val_loss: 0.7780 - val_accuracy: 0.6030\n",
      "Epoch 24/30\n",
      "7330/7330 [==============================] - 9s 1ms/step - loss: 0.7741 - accuracy: 0.6035 - val_loss: 0.7766 - val_accuracy: 0.6023\n",
      "Epoch 25/30\n",
      "7330/7330 [==============================] - 9s 1ms/step - loss: 0.7737 - accuracy: 0.6039 - val_loss: 0.7744 - val_accuracy: 0.6050\n",
      "Epoch 26/30\n",
      "7330/7330 [==============================] - 10s 1ms/step - loss: 0.7729 - accuracy: 0.6037 - val_loss: 0.7757 - val_accuracy: 0.6048\n",
      "Epoch 27/30\n",
      "7330/7330 [==============================] - 9s 1ms/step - loss: 0.7726 - accuracy: 0.6041 - val_loss: 0.7736 - val_accuracy: 0.6053\n",
      "Epoch 28/30\n",
      "7330/7330 [==============================] - 10s 1ms/step - loss: 0.7719 - accuracy: 0.6046 - val_loss: 0.7756 - val_accuracy: 0.6017\n",
      "Epoch 29/30\n",
      "7330/7330 [==============================] - 10s 1ms/step - loss: 0.7723 - accuracy: 0.6050 - val_loss: 0.7763 - val_accuracy: 0.6032\n",
      "Epoch 30/30\n",
      "7330/7330 [==============================] - 9s 1ms/step - loss: 0.7721 - accuracy: 0.6052 - val_loss: 0.7772 - val_accuracy: 0.6033\n"
     ]
    },
    {
     "data": {
      "text/plain": [
       "<keras.src.callbacks.History at 0x21fd5175350>"
      ]
     },
     "execution_count": 30,
     "metadata": {},
     "output_type": "execute_result"
    }
   ],
   "source": [
    "# Training the ANN\n",
    "model.fit(X,y1,batch_size=32,epochs=30,validation_data=(X,y1))"
   ]
  },
  {
   "cell_type": "code",
   "execution_count": 31,
   "id": "d0fc7cb9-93e7-473e-a8e3-6b5d79213d97",
   "metadata": {},
   "outputs": [
    {
     "name": "stdout",
     "output_type": "stream",
     "text": [
      "8144/8144 [==============================] - 6s 741us/step\n"
     ]
    }
   ],
   "source": [
    "# Evaluating the model\n",
    "y_pred = model.predict(X)"
   ]
  },
  {
   "cell_type": "code",
   "execution_count": 89,
   "id": "32112178-7c23-46a1-80be-c655a34c3b40",
   "metadata": {},
   "outputs": [
    {
     "name": "stdout",
     "output_type": "stream",
     "text": [
      "[1 1 1 ... 1 1 2]\n"
     ]
    }
   ],
   "source": [
    "y_pred_classes = np.argmax(y_pred, axis=1)\n",
    "print(y_pred_classes)"
   ]
  },
  {
   "cell_type": "code",
   "execution_count": 90,
   "id": "898205a6-c34a-453c-a490-d2e84e87fbad",
   "metadata": {},
   "outputs": [],
   "source": [
    "y_pred1=pd.DataFrame(y_pred_classes).reset_index()"
   ]
  },
  {
   "cell_type": "code",
   "execution_count": 91,
   "id": "50c0ca74-2825-45e2-859c-9755a3c03e54",
   "metadata": {},
   "outputs": [
    {
     "data": {
      "text/html": [
       "<div>\n",
       "<style scoped>\n",
       "    .dataframe tbody tr th:only-of-type {\n",
       "        vertical-align: middle;\n",
       "    }\n",
       "\n",
       "    .dataframe tbody tr th {\n",
       "        vertical-align: top;\n",
       "    }\n",
       "\n",
       "    .dataframe thead th {\n",
       "        text-align: right;\n",
       "    }\n",
       "</style>\n",
       "<table border=\"1\" class=\"dataframe\">\n",
       "  <thead>\n",
       "    <tr style=\"text-align: right;\">\n",
       "      <th></th>\n",
       "      <th>index</th>\n",
       "      <th>0</th>\n",
       "    </tr>\n",
       "  </thead>\n",
       "  <tbody>\n",
       "    <tr>\n",
       "      <th>0</th>\n",
       "      <td>0</td>\n",
       "      <td>1</td>\n",
       "    </tr>\n",
       "    <tr>\n",
       "      <th>1</th>\n",
       "      <td>1</td>\n",
       "      <td>1</td>\n",
       "    </tr>\n",
       "    <tr>\n",
       "      <th>2</th>\n",
       "      <td>2</td>\n",
       "      <td>1</td>\n",
       "    </tr>\n",
       "    <tr>\n",
       "      <th>3</th>\n",
       "      <td>3</td>\n",
       "      <td>1</td>\n",
       "    </tr>\n",
       "    <tr>\n",
       "      <th>4</th>\n",
       "      <td>4</td>\n",
       "      <td>1</td>\n",
       "    </tr>\n",
       "    <tr>\n",
       "      <th>...</th>\n",
       "      <td>...</td>\n",
       "      <td>...</td>\n",
       "    </tr>\n",
       "    <tr>\n",
       "      <th>260596</th>\n",
       "      <td>260596</td>\n",
       "      <td>1</td>\n",
       "    </tr>\n",
       "    <tr>\n",
       "      <th>260597</th>\n",
       "      <td>260597</td>\n",
       "      <td>1</td>\n",
       "    </tr>\n",
       "    <tr>\n",
       "      <th>260598</th>\n",
       "      <td>260598</td>\n",
       "      <td>1</td>\n",
       "    </tr>\n",
       "    <tr>\n",
       "      <th>260599</th>\n",
       "      <td>260599</td>\n",
       "      <td>1</td>\n",
       "    </tr>\n",
       "    <tr>\n",
       "      <th>260600</th>\n",
       "      <td>260600</td>\n",
       "      <td>2</td>\n",
       "    </tr>\n",
       "  </tbody>\n",
       "</table>\n",
       "<p>260601 rows × 2 columns</p>\n",
       "</div>"
      ],
      "text/plain": [
       "         index  0\n",
       "0            0  1\n",
       "1            1  1\n",
       "2            2  1\n",
       "3            3  1\n",
       "4            4  1\n",
       "...        ... ..\n",
       "260596  260596  1\n",
       "260597  260597  1\n",
       "260598  260598  1\n",
       "260599  260599  1\n",
       "260600  260600  2\n",
       "\n",
       "[260601 rows x 2 columns]"
      ]
     },
     "execution_count": 91,
     "metadata": {},
     "output_type": "execute_result"
    }
   ],
   "source": [
    "y_pred1.head()"
   ]
  },
  {
   "cell_type": "code",
   "execution_count": 92,
   "id": "d10edd93-4c2d-4fd0-b39d-fe34cb2a43f7",
   "metadata": {},
   "outputs": [],
   "source": [
    "y_pred1=y_pred1.drop('index',axis=1)"
   ]
  },
  {
   "cell_type": "code",
   "execution_count": 93,
   "id": "7ecf9bcf-026c-4151-bd89-51bc0a53a907",
   "metadata": {},
   "outputs": [],
   "source": [
    "y_pred1 = y_pred1.rename(columns={0: 'Damage_grade'})"
   ]
  },
  {
   "cell_type": "code",
   "execution_count": 94,
   "id": "7debde43-1657-4350-af72-df8e2a83e6d4",
   "metadata": {},
   "outputs": [
    {
     "data": {
      "text/plain": [
       "Damage_grade\n",
       "1               226671\n",
       "2                23643\n",
       "0                10287\n",
       "Name: count, dtype: int64"
      ]
     },
     "execution_count": 94,
     "metadata": {},
     "output_type": "execute_result"
    }
   ],
   "source": [
    "y_pred1.value_counts()"
   ]
  },
  {
   "cell_type": "code",
   "execution_count": 52,
   "id": "f6c4e257-500c-4142-9737-d6b4a5c66535",
   "metadata": {},
   "outputs": [
    {
     "data": {
      "text/plain": [
       "<Axes: ylabel='count'>"
      ]
     },
     "execution_count": 52,
     "metadata": {},
     "output_type": "execute_result"
    },
    {
     "data": {
      "image/png": "[encoded data removed]",
      "text/plain": [
       "<Figure size 640x480 with 1 Axes>"
      ]
     },
     "metadata": {},
     "output_type": "display_data"
    }
   ],
   "source": [
    "y_pred1.value_counts().plot(kind='pie',autopct='%0.2f%%',explode=[0,0,0.1])"
   ]
  },
  {
   "cell_type": "code",
   "execution_count": null,
   "id": "c4f07ea5-d651-475c-b006-f6c46db7f044",
   "metadata": {},
   "outputs": [],
   "source": [
    "from sklearn.metrics import confusion_matrix"
   ]
  },
  {
   "cell_type": "code",
   "execution_count": 97,
   "id": "fc00f365-b439-40fa-b5b9-9b93c77c0725",
   "metadata": {},
   "outputs": [
    {
     "name": "stdout",
     "output_type": "stream",
     "text": [
      "[[  6791  18028    305]\n",
      " [  3194 136135   8930]\n",
      " [   302  72508  14408]]\n"
     ]
    }
   ],
   "source": [
    "conf_matrix = confusion_matrix(y, y_pred1)\n",
    "print(conf_matrix)"
   ]
  },
  {
   "cell_type": "code",
   "execution_count": 98,
   "id": "4bc931fe-c4dc-4b77-bdc2-3b98aff8a01c",
   "metadata": {},
   "outputs": [
    {
     "name": "stdout",
     "output_type": "stream",
     "text": [
      "      0       1      2\n",
      "0  6791   18028    305\n",
      "1  3194  136135   8930\n",
      "2   302   72508  14408\n"
     ]
    }
   ],
   "source": [
    "conf_matrix_df = pd.DataFrame(conf_matrix)\n",
    "print(conf_matrix_df)"
   ]
  },
  {
   "cell_type": "code",
   "execution_count": 99,
   "id": "690e5f95-8a1b-4592-b2d1-760e8c195ce8",
   "metadata": {},
   "outputs": [
    {
     "name": "stdout",
     "output_type": "stream",
     "text": [
      "              precision    recall  f1-score   support\n",
      "\n",
      "           0       0.66      0.27      0.38     25124\n",
      "           1       0.60      0.92      0.73    148259\n",
      "           2       0.61      0.17      0.26     87218\n",
      "\n",
      "    accuracy                           0.60    260601\n",
      "   macro avg       0.62      0.45      0.46    260601\n",
      "weighted avg       0.61      0.60      0.54    260601\n",
      "\n"
     ]
    }
   ],
   "source": [
    "print(classification_report(y, y_pred1))"
   ]
  },
  {
   "cell_type": "code",
   "execution_count": null,
   "id": "2de06dca-617d-43d8-af34-3ea99c4291c7",
   "metadata": {},
   "outputs": [],
   "source": []
  },
  {
   "cell_type": "code",
   "execution_count": null,
   "id": "3fffa01b-ecd0-405e-ba0c-a460f852ca0b",
   "metadata": {},
   "outputs": [],
   "source": [
    "print(model.history.history.keys())"
   ]
  },
  {
   "cell_type": "code",
   "execution_count": null,
   "id": "617c4b3d-8bb4-4f3b-93b1-ca2a82a1736f",
   "metadata": {},
   "outputs": [],
   "source": [
    "epochs = list(range(1, 31))\n",
    "train_accuracy = model.history.history['accuracy'][:30]   # Truncate to match val_accuracy length\n",
    "val_accuracy = model.history.history['val_accuracy'][:30]\n",
    "# Plotting\n",
    "plt.figure(figsize=(15,6))\n",
    "plt.plot(epochs,train_accuracy, marker='o',linestyle='-',label=\"Train Accuracy\")\n",
    "plt.plot(epochs,val_accuracy, marker='o',linestyle='-',label=\"Validation Accuracy\")\n",
    "plt.xlabel('Epoch')\n",
    "plt.ylabel('Accuracy')\n",
    "plt.grid(True)\n",
    "plt.legend()\n",
    "# Annotate each point with its score and symbol\n",
    "for epoch, train_score, val_score in zip(epochs, train_accuracy, val_accuracy):\n",
    "    plt.text(epoch, train_score, f'Tr: {train_score:.2f}', ha='right', va='bottom', fontsize=8)\n",
    "    plt.text(epoch, val_score, f'Va: {val_score:.2f}', ha='right', va='top', fontsize=8)\n",
    "plt.show()"
   ]
  },
  {
   "cell_type": "code",
   "execution_count": null,
   "id": "471c6909-be5b-40b4-a4eb-798867617e4f",
   "metadata": {},
   "outputs": [],
   "source": [
    "epochs = list(range(1, 31))\n",
    "train_loss = model.history.history['loss'][:31]  # Truncate to match val_loss length\n",
    "val_loss = model.history.history['val_loss'][:31]\n",
    "# Plotting\n",
    "plt.figure(figsize=(15,6))\n",
    "plt.plot(epochs, train_loss, marker='o', linestyle='-', label=\"Train Loss\")\n",
    "plt.plot(epochs, val_loss, marker='o', linestyle='-', label=\"Validation Loss\")\n",
    "plt.xlabel('Epochs')\n",
    "plt.ylabel('Loss')\n",
    "plt.legend()\n",
    "plt.grid(True)\n",
    "# Annotate each point with its score and symbol\n",
    "for epoch, train_loss_score, val_loss_score in zip(epochs, train_loss, val_loss):\n",
    "    plt.text(epoch, train_loss_score, f'Tr:{train_loss_score:.2f}',ha='right',va='bottom',fontsize=8)\n",
    "    plt.text(epoch, val_loss_score, f'Va: {val_loss_score:.2f}', ha='right',va='top',fontsize=8)\n",
    "plt.show()"
   ]
  },
  {
   "cell_type": "code",
   "execution_count": null,
   "id": "d1fb19d6-443c-4ce4-bda1-6057f6e2c03c",
   "metadata": {},
   "outputs": [],
   "source": []
  },
  {
   "cell_type": "code",
   "execution_count": 101,
   "id": "0b2e38be-ea0b-4fda-82f3-d3b0c51523ea",
   "metadata": {},
   "outputs": [
    {
     "name": "stdout",
     "output_type": "stream",
     "text": [
      "2715/2715 [==============================] - 2s 713us/step\n",
      "[1 1 1 ... 1 1 1]\n"
     ]
    }
   ],
   "source": [
    "tt=model.predict(dr_tt)\n",
    "test1 = np.argmax(tt, axis=1)"
   ]
  },
  {
   "cell_type": "code",
   "execution_count": 102,
   "id": "c6c9d818-8e4d-4c95-a169-8c430605d04a",
   "metadata": {},
   "outputs": [
    {
     "name": "stdout",
     "output_type": "stream",
     "text": [
      "[1 1 1 ... 1 1 1]\n"
     ]
    }
   ],
   "source": [
    "print(test1)"
   ]
  },
  {
   "cell_type": "code",
   "execution_count": 103,
   "id": "2438c5df-abfa-439f-b9a0-92ec42c0a8f8",
   "metadata": {},
   "outputs": [],
   "source": [
    "test1=pd.DataFrame(test1)"
   ]
  },
  {
   "cell_type": "code",
   "execution_count": 104,
   "id": "a863a02d-55e5-44ee-a194-4e5840eba671",
   "metadata": {},
   "outputs": [
    {
     "data": {
      "text/plain": [
       "1    75774\n",
       "2     7734\n",
       "0     3360\n",
       "Name: count, dtype: int64"
      ]
     },
     "execution_count": 104,
     "metadata": {},
     "output_type": "execute_result"
    }
   ],
   "source": [
    "test1.value_counts()"
   ]
  },
  {
   "cell_type": "code",
   "execution_count": 105,
   "id": "e0d7bd5d-b5f3-4462-a982-8feab939c391",
   "metadata": {},
   "outputs": [
    {
     "data": {
      "text/plain": [
       "<Axes: ylabel='count'>"
      ]
     },
     "execution_count": 105,
     "metadata": {},
     "output_type": "execute_result"
    },
    {
     "data": {
      "image/png": "[encoded data removed]",
      "text/plain": [
       "<Figure size 640x480 with 1 Axes>"
      ]
     },
     "metadata": {},
     "output_type": "display_data"
    }
   ],
   "source": [
    "test1.value_counts().plot(kind='pie',autopct='%0.2f%%',explode=[0,0,0.1])"
   ]
  },
  {
   "cell_type": "code",
   "execution_count": null,
   "id": "478110cc-3646-44ef-ad7f-e05626e276c5",
   "metadata": {},
   "outputs": [],
   "source": []
  },
  {
   "cell_type": "raw",
   "id": "07d32520-0498-4cb9-9dfd-9be2e76a94eb",
   "metadata": {},
   "source": [
    "# Save the model\n",
    "model.save(\"ann_model.h5\")"
   ]
  },
  {
   "cell_type": "code",
   "execution_count": null,
   "id": "3bb49be4-9d4d-41e7-9798-f57f6c1a0e71",
   "metadata": {},
   "outputs": [],
   "source": []
  },
  {
   "cell_type": "markdown",
   "id": "d6f0b6d9-2c7d-452f-9716-1295188332ee",
   "metadata": {},
   "source": [
    "# Converting Imbalance data to Balance Data"
   ]
  },
  {
   "cell_type": "code",
   "execution_count": 106,
   "id": "f6a9c527-506f-4915-8803-9793ddd3f7da",
   "metadata": {},
   "outputs": [],
   "source": [
    "from imblearn.over_sampling import SMOTE"
   ]
  },
  {
   "cell_type": "code",
   "execution_count": 107,
   "id": "30cc5425-cbce-44bb-a6d3-08ec362600f5",
   "metadata": {},
   "outputs": [],
   "source": [
    "sm=SMOTE(random_state=42)"
   ]
  },
  {
   "cell_type": "code",
   "execution_count": 108,
   "id": "65df9be9-e44a-4ef9-8717-aeecd9192e40",
   "metadata": {},
   "outputs": [],
   "source": [
    "X_smote,y_smote=sm.fit_resample(X,y)"
   ]
  },
  {
   "cell_type": "code",
   "execution_count": null,
   "id": "d5e82501-3994-4e74-8596-077e34f3c515",
   "metadata": {},
   "outputs": [],
   "source": []
  },
  {
   "cell_type": "markdown",
   "id": "3cd527e6-026b-41b3-a8ee-aa756ad90b0a",
   "metadata": {},
   "source": [
    "# Model"
   ]
  },
  {
   "cell_type": "code",
   "execution_count": 109,
   "id": "1757ddd1-f606-4a1c-8fef-9ddc86aed021",
   "metadata": {},
   "outputs": [],
   "source": [
    "y_sm = to_categorical(y_smote)"
   ]
  },
  {
   "cell_type": "code",
   "execution_count": 110,
   "id": "9952859a-5f53-466f-8e23-7b293aefb243",
   "metadata": {},
   "outputs": [
    {
     "name": "stdout",
     "output_type": "stream",
     "text": [
      "Model: \"sequential_1\"\n",
      "_________________________________________________________________\n",
      " Layer (type)                Output Shape              Param #   \n",
      "=================================================================\n",
      " dense_5 (Dense)             (None, 128)               4608      \n",
      "                                                                 \n",
      " dense_6 (Dense)             (None, 64)                8256      \n",
      "                                                                 \n",
      " dropout_1 (Dropout)         (None, 64)                0         \n",
      "                                                                 \n",
      " dense_7 (Dense)             (None, 32)                2080      \n",
      "                                                                 \n",
      " dense_8 (Dense)             (None, 16)                528       \n",
      "                                                                 \n",
      " dense_9 (Dense)             (None, 3)                 51        \n",
      "                                                                 \n",
      "=================================================================\n",
      "Total params: 15523 (60.64 KB)\n",
      "Trainable params: 15523 (60.64 KB)\n",
      "Non-trainable params: 0 (0.00 Byte)\n",
      "_________________________________________________________________\n"
     ]
    }
   ],
   "source": [
    "# Building the ANN\n",
    "model_sm = Sequential()\n",
    "# Input layer\n",
    "model_sm.add(Dense(128, activation='relu', input_dim=X_smote.shape[1]))\n",
    "# Hidden layers\n",
    "model_sm.add(Dense(64, activation='relu'))\n",
    "model_sm.add(Dropout(0.3))  # Adding dropout for regularization\n",
    "model_sm.add(Dense(32, activation='relu'))\n",
    "model_sm.add(Dense(16, activation='relu'))\n",
    "# Output layer\n",
    "model_sm.add(Dense(y_sm.shape[1], activation='softmax'))\n",
    "# Compiling the ANN\n",
    "model_sm.compile(optimizer='adam', loss='categorical_crossentropy', metrics=['accuracy'])\n",
    "model_sm.summary()"
   ]
  },
  {
   "cell_type": "code",
   "execution_count": 161,
   "id": "3eb32caa-a200-42de-8584-d7b747c779a0",
   "metadata": {},
   "outputs": [
    {
     "name": "stdout",
     "output_type": "stream",
     "text": [
      "Epoch 1/30\n",
      "6950/6950 [==============================] - 14s 2ms/step - loss: 0.7648 - accuracy: 0.6193 - val_loss: 0.7555 - val_accuracy: 0.6252\n",
      "Epoch 2/30\n",
      "6950/6950 [==============================] - 15s 2ms/step - loss: 0.7649 - accuracy: 0.6187 - val_loss: 0.7575 - val_accuracy: 0.6246\n",
      "Epoch 3/30\n",
      "6950/6950 [==============================] - 16s 2ms/step - loss: 0.7647 - accuracy: 0.6185 - val_loss: 0.7566 - val_accuracy: 0.6251\n",
      "Epoch 4/30\n",
      "6950/6950 [==============================] - 16s 2ms/step - loss: 0.7643 - accuracy: 0.6191 - val_loss: 0.7628 - val_accuracy: 0.6256\n",
      "Epoch 5/30\n",
      "6950/6950 [==============================] - 16s 2ms/step - loss: 0.7640 - accuracy: 0.6195 - val_loss: 0.7571 - val_accuracy: 0.6255\n",
      "Epoch 6/30\n",
      "6950/6950 [==============================] - 15s 2ms/step - loss: 0.7640 - accuracy: 0.6189 - val_loss: 0.7571 - val_accuracy: 0.6264\n",
      "Epoch 7/30\n",
      "6950/6950 [==============================] - 16s 2ms/step - loss: 0.7646 - accuracy: 0.6191 - val_loss: 0.7564 - val_accuracy: 0.6241\n",
      "Epoch 8/30\n",
      "6950/6950 [==============================] - 16s 2ms/step - loss: 0.7636 - accuracy: 0.6194 - val_loss: 0.7570 - val_accuracy: 0.6264\n",
      "Epoch 9/30\n",
      "6950/6950 [==============================] - 15s 2ms/step - loss: 0.7637 - accuracy: 0.6198 - val_loss: 0.7553 - val_accuracy: 0.6254\n",
      "Epoch 10/30\n",
      "6950/6950 [==============================] - 15s 2ms/step - loss: 0.7639 - accuracy: 0.6190 - val_loss: 0.7547 - val_accuracy: 0.6255\n",
      "Epoch 11/30\n",
      "6950/6950 [==============================] - 15s 2ms/step - loss: 0.7640 - accuracy: 0.6193 - val_loss: 0.7563 - val_accuracy: 0.6233\n",
      "Epoch 12/30\n",
      "6950/6950 [==============================] - 15s 2ms/step - loss: 0.7640 - accuracy: 0.6189 - val_loss: 0.7555 - val_accuracy: 0.6259\n",
      "Epoch 13/30\n",
      "6950/6950 [==============================] - 15s 2ms/step - loss: 0.7634 - accuracy: 0.6191 - val_loss: 0.7574 - val_accuracy: 0.6262\n",
      "Epoch 14/30\n",
      "6950/6950 [==============================] - 15s 2ms/step - loss: 0.7635 - accuracy: 0.6197 - val_loss: 0.7554 - val_accuracy: 0.6264\n",
      "Epoch 15/30\n",
      "6950/6950 [==============================] - 15s 2ms/step - loss: 0.7632 - accuracy: 0.6196 - val_loss: 0.7570 - val_accuracy: 0.6238\n",
      "Epoch 16/30\n",
      "6950/6950 [==============================] - 15s 2ms/step - loss: 0.7630 - accuracy: 0.6192 - val_loss: 0.7540 - val_accuracy: 0.6253\n",
      "Epoch 17/30\n",
      "6950/6950 [==============================] - 15s 2ms/step - loss: 0.7630 - accuracy: 0.6190 - val_loss: 0.7551 - val_accuracy: 0.6274\n",
      "Epoch 18/30\n",
      "6950/6950 [==============================] - 15s 2ms/step - loss: 0.7629 - accuracy: 0.6193 - val_loss: 0.7549 - val_accuracy: 0.6270\n",
      "Epoch 19/30\n",
      "6950/6950 [==============================] - 15s 2ms/step - loss: 0.7637 - accuracy: 0.6195 - val_loss: 0.7567 - val_accuracy: 0.6245\n",
      "Epoch 20/30\n",
      "6950/6950 [==============================] - 15s 2ms/step - loss: 0.7626 - accuracy: 0.6200 - val_loss: 0.7537 - val_accuracy: 0.6271\n",
      "Epoch 21/30\n",
      "6950/6950 [==============================] - 15s 2ms/step - loss: 0.7635 - accuracy: 0.6200 - val_loss: 0.7566 - val_accuracy: 0.6270\n",
      "Epoch 22/30\n",
      "6950/6950 [==============================] - 15s 2ms/step - loss: 0.7630 - accuracy: 0.6201 - val_loss: 0.7584 - val_accuracy: 0.6253\n",
      "Epoch 23/30\n",
      "6950/6950 [==============================] - 15s 2ms/step - loss: 0.7631 - accuracy: 0.6197 - val_loss: 0.7539 - val_accuracy: 0.6272\n",
      "Epoch 24/30\n",
      "6950/6950 [==============================] - 15s 2ms/step - loss: 0.7627 - accuracy: 0.6198 - val_loss: 0.7566 - val_accuracy: 0.6259\n",
      "Epoch 25/30\n",
      "6950/6950 [==============================] - 15s 2ms/step - loss: 0.7628 - accuracy: 0.6194 - val_loss: 0.7526 - val_accuracy: 0.6285\n",
      "Epoch 26/30\n",
      "6950/6950 [==============================] - 15s 2ms/step - loss: 0.7626 - accuracy: 0.6200 - val_loss: 0.7552 - val_accuracy: 0.6281\n",
      "Epoch 27/30\n",
      "6950/6950 [==============================] - 15s 2ms/step - loss: 0.7631 - accuracy: 0.6206 - val_loss: 0.7516 - val_accuracy: 0.6265\n",
      "Epoch 28/30\n",
      "6950/6950 [==============================] - 15s 2ms/step - loss: 0.7629 - accuracy: 0.6197 - val_loss: 0.7578 - val_accuracy: 0.6232\n",
      "Epoch 29/30\n",
      "6950/6950 [==============================] - 15s 2ms/step - loss: 0.7628 - accuracy: 0.6194 - val_loss: 0.7535 - val_accuracy: 0.6278\n",
      "Epoch 30/30\n",
      "6950/6950 [==============================] - 16s 2ms/step - loss: 0.7619 - accuracy: 0.6204 - val_loss: 0.7533 - val_accuracy: 0.6277\n"
     ]
    },
    {
     "data": {
      "text/plain": [
       "<keras.src.callbacks.History at 0x22034c1c890>"
      ]
     },
     "execution_count": 161,
     "metadata": {},
     "output_type": "execute_result"
    }
   ],
   "source": [
    "# Training the ANN\n",
    "model_sm.fit(X_smote,y_sm,batch_size=64,epochs=30,validation_data=(X_smote,y_sm))"
   ]
  },
  {
   "cell_type": "code",
   "execution_count": 112,
   "id": "80d94313-5f3b-4c96-b5d5-93f824c16360",
   "metadata": {},
   "outputs": [
    {
     "name": "stdout",
     "output_type": "stream",
     "text": [
      "13900/13900 [==============================] - 10s 741us/step\n"
     ]
    }
   ],
   "source": [
    "# Evaluating the model\n",
    "y_pred_sm = model_sm.predict(X_smote)"
   ]
  },
  {
   "cell_type": "code",
   "execution_count": 113,
   "id": "a11fb05f-f8c1-43a0-b8ad-44b2882a8dc3",
   "metadata": {},
   "outputs": [
    {
     "name": "stdout",
     "output_type": "stream",
     "text": [
      "[1 1 2 ... 2 1 1]\n"
     ]
    }
   ],
   "source": [
    "y_pred_sm = np.argmax(y_pred_sm, axis=1)\n",
    "print(y_pred_sm)"
   ]
  },
  {
   "cell_type": "code",
   "execution_count": 114,
   "id": "4ece37e5-a0a1-41f5-bc1e-314f4609972d",
   "metadata": {},
   "outputs": [],
   "source": [
    "y_sm1=pd.DataFrame(y_pred_sm).reset_index()"
   ]
  },
  {
   "cell_type": "code",
   "execution_count": 115,
   "id": "c8ad2c78-ed8e-4309-956b-e3f01a485404",
   "metadata": {},
   "outputs": [
    {
     "data": {
      "text/html": [
       "<div>\n",
       "<style scoped>\n",
       "    .dataframe tbody tr th:only-of-type {\n",
       "        vertical-align: middle;\n",
       "    }\n",
       "\n",
       "    .dataframe tbody tr th {\n",
       "        vertical-align: top;\n",
       "    }\n",
       "\n",
       "    .dataframe thead th {\n",
       "        text-align: right;\n",
       "    }\n",
       "</style>\n",
       "<table border=\"1\" class=\"dataframe\">\n",
       "  <thead>\n",
       "    <tr style=\"text-align: right;\">\n",
       "      <th></th>\n",
       "      <th>index</th>\n",
       "      <th>0</th>\n",
       "    </tr>\n",
       "  </thead>\n",
       "  <tbody>\n",
       "    <tr>\n",
       "      <th>0</th>\n",
       "      <td>0</td>\n",
       "      <td>1</td>\n",
       "    </tr>\n",
       "    <tr>\n",
       "      <th>1</th>\n",
       "      <td>1</td>\n",
       "      <td>1</td>\n",
       "    </tr>\n",
       "    <tr>\n",
       "      <th>2</th>\n",
       "      <td>2</td>\n",
       "      <td>2</td>\n",
       "    </tr>\n",
       "    <tr>\n",
       "      <th>3</th>\n",
       "      <td>3</td>\n",
       "      <td>0</td>\n",
       "    </tr>\n",
       "    <tr>\n",
       "      <th>4</th>\n",
       "      <td>4</td>\n",
       "      <td>2</td>\n",
       "    </tr>\n",
       "  </tbody>\n",
       "</table>\n",
       "</div>"
      ],
      "text/plain": [
       "   index  0\n",
       "0      0  1\n",
       "1      1  1\n",
       "2      2  2\n",
       "3      3  0\n",
       "4      4  2"
      ]
     },
     "execution_count": 115,
     "metadata": {},
     "output_type": "execute_result"
    }
   ],
   "source": [
    "y_sm1.head()"
   ]
  },
  {
   "cell_type": "code",
   "execution_count": 120,
   "id": "d8005ba8-0fd1-4eb3-b128-c32367a38292",
   "metadata": {},
   "outputs": [],
   "source": [
    "y_sm1=y_sm1.drop('index',axis=1)"
   ]
  },
  {
   "cell_type": "code",
   "execution_count": 121,
   "id": "98ee0ddf-f324-4706-95b0-16b84ab9ea4f",
   "metadata": {},
   "outputs": [],
   "source": [
    "y_sm1 = y_sm1.rename(columns={0: 'Damage_grade'})"
   ]
  },
  {
   "cell_type": "code",
   "execution_count": 122,
   "id": "9338f569-7711-42ac-ab68-6b1d7c97cfe3",
   "metadata": {},
   "outputs": [
    {
     "data": {
      "text/plain": [
       "Damage_grade\n",
       "1               199779\n",
       "0               157596\n",
       "2                87402\n",
       "Name: count, dtype: int64"
      ]
     },
     "execution_count": 122,
     "metadata": {},
     "output_type": "execute_result"
    }
   ],
   "source": [
    "y_sm1.value_counts()"
   ]
  },
  {
   "cell_type": "code",
   "execution_count": 123,
   "id": "e002d7ef-9da3-45df-b7c8-33cf2b018585",
   "metadata": {},
   "outputs": [
    {
     "data": {
      "text/plain": [
       "<Axes: ylabel='count'>"
      ]
     },
     "execution_count": 123,
     "metadata": {},
     "output_type": "execute_result"
    },
    {
     "data": {
      "image/png": "[encoded data removed]",
      "text/plain": [
       "<Figure size 640x480 with 1 Axes>"
      ]
     },
     "metadata": {},
     "output_type": "display_data"
    }
   ],
   "source": [
    "y_sm1.value_counts().plot(kind='pie',autopct='%0.2f%%',explode=[0,0,0.1])"
   ]
  },
  {
   "cell_type": "code",
   "execution_count": 126,
   "id": "4458d5c0-2b92-469a-af6f-bc5d025a3459",
   "metadata": {},
   "outputs": [
    {
     "name": "stdout",
     "output_type": "stream",
     "text": [
      "[[115582  27841   4836]\n",
      " [ 25584  94942  27733]\n",
      " [ 16430  76996  54833]]\n"
     ]
    }
   ],
   "source": [
    "conf_matrix_sm = confusion_matrix(y_smote, y_sm1)\n",
    "print(conf_matrix_sm)"
   ]
  },
  {
   "cell_type": "code",
   "execution_count": 127,
   "id": "8ec6170f-1b0a-46eb-a274-4d745ef65c3c",
   "metadata": {},
   "outputs": [
    {
     "name": "stdout",
     "output_type": "stream",
     "text": [
      "      0       1      2\n",
      "0  6791   18028    305\n",
      "1  3194  136135   8930\n",
      "2   302   72508  14408\n"
     ]
    }
   ],
   "source": [
    "conf_matrix_sm = pd.DataFrame(conf_matrix_sm)\n",
    "print(conf_matrix_df)"
   ]
  },
  {
   "cell_type": "code",
   "execution_count": 129,
   "id": "6d0c0edc-5d39-4d7e-a76b-407366069581",
   "metadata": {},
   "outputs": [
    {
     "name": "stdout",
     "output_type": "stream",
     "text": [
      "              precision    recall  f1-score   support\n",
      "\n",
      "           0       0.73      0.78      0.76    148259\n",
      "           1       0.48      0.64      0.55    148259\n",
      "           2       0.63      0.37      0.47    148259\n",
      "\n",
      "    accuracy                           0.60    444777\n",
      "   macro avg       0.61      0.60      0.59    444777\n",
      "weighted avg       0.61      0.60      0.59    444777\n",
      "\n"
     ]
    }
   ],
   "source": [
    "print(classification_report(y_smote, y_sm1))"
   ]
  },
  {
   "cell_type": "code",
   "execution_count": null,
   "id": "692079bb-9f9c-4a2e-8ba9-2169cb7bdaec",
   "metadata": {},
   "outputs": [],
   "source": []
  },
  {
   "cell_type": "code",
   "execution_count": null,
   "id": "c9dfc45f-f556-454b-99c5-bf22ddd0719a",
   "metadata": {},
   "outputs": [],
   "source": []
  },
  {
   "cell_type": "code",
   "execution_count": 148,
   "id": "e67d7a19-c844-4aa8-8269-8e5d6625b9d6",
   "metadata": {},
   "outputs": [
    {
     "name": "stdout",
     "output_type": "stream",
     "text": [
      "dict_keys(['loss', 'accuracy', 'val_loss', 'val_accuracy'])\n"
     ]
    }
   ],
   "source": [
    "print(model_sm.history.history.keys())"
   ]
  },
  {
   "cell_type": "code",
   "execution_count": 162,
   "id": "ba253550-6f31-48f1-81b7-83f20a9abf64",
   "metadata": {},
   "outputs": [
    {
     "data": {
      "image/png": "[encoded data removed]",
      "text/plain": [
       "<Figure size 1500x600 with 1 Axes>"
      ]
     },
     "metadata": {},
     "output_type": "display_data"
    }
   ],
   "source": [
    "epochs = list(range(1, 31))\n",
    "train_accuracy = model_sm.history.history['accuracy'][:30]   # Truncate to match val_accuracy length\n",
    "val_accuracy = model_sm.history.history['val_accuracy'][:30]\n",
    "# Plotting\n",
    "plt.figure(figsize=(15,6))\n",
    "plt.plot(epochs,train_accuracy, marker='o',linestyle='-',label=\"Train Accuracy\")\n",
    "plt.plot(epochs,val_accuracy, marker='o',linestyle='-',label=\"Validation Accuracy\")\n",
    "plt.xlabel('Epoch')\n",
    "plt.ylabel('Accuracy')\n",
    "plt.grid(True)\n",
    "plt.legend()\n",
    "# Annotate each point with its score and symbol\n",
    "for epoch, train_score, val_score in zip(epochs, train_accuracy, val_accuracy):\n",
    "    plt.text(epoch, train_score, f'Tr: {train_score:.2f}', ha='right', va='bottom', fontsize=8)\n",
    "    plt.text(epoch, val_score, f'Va: {val_score:.2f}', ha='right', va='top', fontsize=8)\n",
    "plt.show()"
   ]
  },
  {
   "cell_type": "code",
   "execution_count": 163,
   "id": "03a7ec06-1f8b-448f-b2b2-92047338ef53",
   "metadata": {},
   "outputs": [
    {
     "data": {
      "image/png": "[encoded data removed]",
      "text/plain": [
       "<Figure size 1500x600 with 1 Axes>"
      ]
     },
     "metadata": {},
     "output_type": "display_data"
    }
   ],
   "source": [
    "epochs = list(range(1, 31))\n",
    "train_loss = model_sm.history.history['loss'][:31]  # Truncate to match val_loss length\n",
    "val_loss = model_sm.history.history['val_loss'][:31]\n",
    "# Plotting\n",
    "plt.figure(figsize=(15,6))\n",
    "plt.plot(epochs, train_loss, marker='o', linestyle='-', label=\"Train Loss\")\n",
    "plt.plot(epochs, val_loss, marker='o', linestyle='-', label=\"Validation Loss\")\n",
    "plt.xlabel('Epochs')\n",
    "plt.ylabel('Loss')\n",
    "plt.legend()\n",
    "plt.grid(True)\n",
    "# Annotate each point with its score and symbol\n",
    "for epoch, train_loss_score, val_loss_score in zip(epochs, train_loss, val_loss):\n",
    "    plt.text(epoch, train_loss_score, f'Tr:{train_loss_score:.2f}',ha='right',va='bottom',fontsize=8)\n",
    "    plt.text(epoch, val_loss_score, f'Va: {val_loss_score:.2f}', ha='right',va='top',fontsize=8)\n",
    "plt.show()"
   ]
  },
  {
   "cell_type": "code",
   "execution_count": 132,
   "id": "f1c0e79f-dbfe-4125-9375-7a0a99e51db3",
   "metadata": {},
   "outputs": [
    {
     "name": "stdout",
     "output_type": "stream",
     "text": [
      "2715/2715 [==============================] - 2s 746us/step\n"
     ]
    }
   ],
   "source": [
    "tt_sm=model_sm.predict(dr_tt)\n",
    "test_sm = np.argmax(tt_sm, axis=1)"
   ]
  },
  {
   "cell_type": "code",
   "execution_count": 133,
   "id": "bbf657d5-d6e8-4227-8e4c-18515377f5e3",
   "metadata": {},
   "outputs": [
    {
     "name": "stdout",
     "output_type": "stream",
     "text": [
      "[2 1 1 ... 1 1 0]\n"
     ]
    }
   ],
   "source": [
    "print(test_sm)"
   ]
  },
  {
   "cell_type": "code",
   "execution_count": 134,
   "id": "67179a82-91c5-4655-96c0-c73d604bea12",
   "metadata": {},
   "outputs": [],
   "source": [
    "test_sm=pd.DataFrame(test_sm)"
   ]
  },
  {
   "cell_type": "code",
   "execution_count": 135,
   "id": "dd21dec0-cfdf-4488-bb8b-43471e35b2ca",
   "metadata": {},
   "outputs": [
    {
     "data": {
      "text/plain": [
       "1    49888\n",
       "2    20383\n",
       "0    16597\n",
       "Name: count, dtype: int64"
      ]
     },
     "execution_count": 135,
     "metadata": {},
     "output_type": "execute_result"
    }
   ],
   "source": [
    "test_sm.value_counts()"
   ]
  },
  {
   "cell_type": "code",
   "execution_count": 136,
   "id": "a053df5a-0fbb-4c74-806a-fc4e55f92d70",
   "metadata": {},
   "outputs": [
    {
     "data": {
      "text/plain": [
       "<Axes: ylabel='count'>"
      ]
     },
     "execution_count": 136,
     "metadata": {},
     "output_type": "execute_result"
    },
    {
     "data": {
      "image/png": "[encoded data removed]",
      "text/plain": [
       "<Figure size 640x480 with 1 Axes>"
      ]
     },
     "metadata": {},
     "output_type": "display_data"
    }
   ],
   "source": [
    "test_sm.value_counts().plot(kind='pie',autopct='%0.2f%%',explode=[0,0,0.1])"
   ]
  },
  {
   "cell_type": "code",
   "execution_count": null,
   "id": "165ab90f-da90-44d0-9fa4-afe6e3e6d847",
   "metadata": {},
   "outputs": [],
   "source": []
  },
  {
   "cell_type": "raw",
   "id": "923292f4-760f-4496-8248-0965d4f554c8",
   "metadata": {},
   "source": [
    "# Save the model\n",
    "model.save(\"ann_model.h5\")"
   ]
  },
  {
   "cell_type": "code",
   "execution_count": null,
   "id": "9caa99f0-ab33-41c5-b8ae-45bf9c38050c",
   "metadata": {},
   "outputs": [],
   "source": []
  }
 ],
 "metadata": {
  "kernelspec": {
   "display_name": "Python 3 (ipykernel)",
   "language": "python",
   "name": "python3"
  },
  "language_info": {
   "codemirror_mode": {
    "name": "ipython",
    "version": 3
   },
   "file_extension": ".py",
   "mimetype": "text/x-python",
   "name": "python",
   "nbconvert_exporter": "python",
   "pygments_lexer": "ipython3",
   "version": "3.11.7"
  }
 },
 "nbformat": 4,
 "nbformat_minor": 5
}
